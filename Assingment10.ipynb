{
 "cells": [
  {
   "cell_type": "markdown",
   "id": "9f5c70ad-cf40-4aaf-8790-21b30787ce8d",
   "metadata": {},
   "source": [
    "1. What is the role of try and exception block?\n",
    "\n",
    "ANSWER\n",
    "\n",
    "Try block: The code within the try block contains the statements that may potentially raise an exception. It allows you to specify the section of code that you want to monitor for exceptions.\n",
    "\n",
    "Except block: If an exception occurs within the try block, the corresponding except block(s) are executed. The except block allows you to define the actions or code that should be executed when a specific exception is raised. You can have multiple except blocks to handle different types of exceptions."
   ]
  },
  {
   "cell_type": "markdown",
   "id": "f965630f-1b31-4d23-ae33-e6e08fec4e83",
   "metadata": {},
   "source": [
    "2. What is the syntax for a basic try-except block?\n",
    "\n",
    "ANSWER\n",
    "\n",
    "In Python, a basic try-except block is used for handling exceptions. The syntax for a try-except block is as follows:"
   ]
  },
  {
   "cell_type": "code",
   "execution_count": 1,
   "id": "4593c14b-ed64-475e-92c0-dc52800af982",
   "metadata": {},
   "outputs": [
    {
     "name": "stdout",
     "output_type": "stream",
     "text": [
      "Error: Cannot divide by zero!\n"
     ]
    }
   ],
   "source": [
    "try:\n",
    "    x = 10\n",
    "    y = 0\n",
    "    result = x / y  # This will raise a ZeroDivisionError\n",
    "except ZeroDivisionError:\n",
    "    print(\"Error: Cannot divide by zero!\")"
   ]
  },
  {
   "cell_type": "markdown",
   "id": "f1134650-fe5b-447b-86c5-b0ec7a9c901a",
   "metadata": {},
   "source": [
    "3. What happens if an exception occurs inside a try block and there is no matching except block?\n",
    "\n",
    "ANSWER\n",
    "\n",
    "If an exception occurs inside a try block and there is no matching except block to handle that specific exception, the program will terminate with an error message. The default Python error message will be displayed, showing the type of exception that occurred, along with the traceback of the call stack."
   ]
  },
  {
   "cell_type": "code",
   "execution_count": 2,
   "id": "c34aa548-b616-44ee-9d65-59a8c5177183",
   "metadata": {},
   "outputs": [
    {
     "ename": "ZeroDivisionError",
     "evalue": "division by zero",
     "output_type": "error",
     "traceback": [
      "\u001b[0;31m---------------------------------------------------------------------------\u001b[0m",
      "\u001b[0;31mZeroDivisionError\u001b[0m                         Traceback (most recent call last)",
      "Cell \u001b[0;32mIn [2], line 4\u001b[0m\n\u001b[1;32m      2\u001b[0m     x \u001b[38;5;241m=\u001b[39m \u001b[38;5;241m10\u001b[39m\n\u001b[1;32m      3\u001b[0m     y \u001b[38;5;241m=\u001b[39m \u001b[38;5;241m0\u001b[39m\n\u001b[0;32m----> 4\u001b[0m     result \u001b[38;5;241m=\u001b[39m \u001b[43mx\u001b[49m\u001b[43m \u001b[49m\u001b[38;5;241;43m/\u001b[39;49m\u001b[43m \u001b[49m\u001b[43my\u001b[49m  \u001b[38;5;66;03m# This will raise a ZeroDivisionError\u001b[39;00m\n\u001b[1;32m      5\u001b[0m \u001b[38;5;28;01mexcept\u001b[39;00m \u001b[38;5;167;01mValueError\u001b[39;00m:\n\u001b[1;32m      6\u001b[0m     \u001b[38;5;28mprint\u001b[39m(\u001b[38;5;124m\"\u001b[39m\u001b[38;5;124mThis won\u001b[39m\u001b[38;5;124m'\u001b[39m\u001b[38;5;124mt be executed because the except block doesn\u001b[39m\u001b[38;5;124m'\u001b[39m\u001b[38;5;124mt match the exception type.\u001b[39m\u001b[38;5;124m\"\u001b[39m)\n",
      "\u001b[0;31mZeroDivisionError\u001b[0m: division by zero"
     ]
    }
   ],
   "source": [
    "try:\n",
    "    x = 10\n",
    "    y = 0\n",
    "    result = x / y  # This will raise a ZeroDivisionError\n",
    "except ValueError:\n",
    "    print(\"This won't be executed because the except block doesn't match the exception type.\")"
   ]
  },
  {
   "cell_type": "markdown",
   "id": "d8b1c882-325e-4362-8e30-ccf3773edebe",
   "metadata": {},
   "source": [
    "4. What is the difference between using a bare except block and specifying a specific exception type?\n",
    "\n",
    "ANSWER\n",
    "\n",
    "BARE EXCEPT BLOCK - Using a bare except block catches all exceptions without specifying a type, making debugging difficult and potentially hiding errors.\n",
    "\n",
    "SPECIFYING A SPECIFIC EXCEPTION TYPE - specifying a specific exception type allows catching and handling only that type, providing clearer error handling and aiding in debugging. "
   ]
  },
  {
   "cell_type": "markdown",
   "id": "ba78109d-4e87-4307-816d-59b13151c014",
   "metadata": {},
   "source": [
    "5. Can you have nested try-except blocks in Python? If yes, then give an example.\n",
    "\n",
    "ANSWER\n",
    "\n",
    "Yes, you can have nested try-except blocks in Python. This means you can have a try-except block inside another try or except block. The inner try-except block will handle exceptions specific to the code within that block, while the outer try-except block will handle any unhandled exceptions from the inner block."
   ]
  },
  {
   "cell_type": "code",
   "execution_count": 11,
   "id": "d6ee3110-5f9b-489b-9fb2-3d73155f0f6f",
   "metadata": {},
   "outputs": [
    {
     "name": "stdin",
     "output_type": "stream",
     "text": [
      "Enter a dividend:  45\n",
      "Enter a divisor:  0\n"
     ]
    },
    {
     "name": "stdout",
     "output_type": "stream",
     "text": [
      "outer try block\n",
      "Inner try block\n",
      "Inner finally block\n",
      "outer finally block\n"
     ]
    }
   ],
   "source": [
    "try:\n",
    "    num1 = int(input(\"Enter a dividend: \"))\n",
    "    num2 = int(input(\"Enter a divisor: \"))\n",
    "    print(\"outer try block\")\n",
    "    try:\n",
    "        print(\"Inner try block\")\n",
    "    except ZeroDivisionError:\n",
    "       print(\"Inner except block\")\n",
    "    finally:\n",
    "       print(\"Inner finally block\")\n",
    "except:\n",
    "   print(\"outer except block\")\n",
    "finally:\n",
    "   print(\"outer finally block\")"
   ]
  },
  {
   "cell_type": "markdown",
   "id": "259ea56c-fe17-48a0-90e9-2584c08b671d",
   "metadata": {},
   "source": [
    "6. Can we use multiple exception blocks, if yes then give an example.\n",
    "\n",
    "ANSWER\n",
    "\n",
    "Yes, you can use multiple exception blocks (except blocks) in a single try-except statement in Python. This allows you to handle different types of exceptions separately and provide specific error handling for each type."
   ]
  },
  {
   "cell_type": "code",
   "execution_count": 12,
   "id": "2c6f9ab1-a2b7-4045-bdf2-c3989b79eb1f",
   "metadata": {},
   "outputs": [
    {
     "name": "stdin",
     "output_type": "stream",
     "text": [
      "Enter a dividend:  35\n",
      "Enter a divisor:  0\n"
     ]
    },
    {
     "name": "stdout",
     "output_type": "stream",
     "text": [
      "Error: Cannot divide by zero.\n"
     ]
    }
   ],
   "source": [
    "try:\n",
    "    num1 = int(input(\"Enter a dividend: \"))\n",
    "    num2 = int(input(\"Enter a divisor: \"))\n",
    "    result = num1 / num2\n",
    "    print(\"Result:\", result)\n",
    "\n",
    "except ZeroDivisionError:\n",
    "    print(\"Error: Cannot divide by zero.\")\n",
    "except ValueError:\n",
    "    print(\"Error: Please enter valid integer values.\")\n",
    "except Exception as e:\n",
    "    print(\"Error:\", e)"
   ]
  },
  {
   "cell_type": "code",
   "execution_count": null,
   "id": "82fd5486-80f3-4a0d-a29c-90ef0e8e6578",
   "metadata": {},
   "outputs": [],
   "source": [
    "7. Write the reason due to which following errors are raised:\n",
    "    \n",
    "ANSWER\n",
    "    \n",
    "a. EOFError = Raised when the input() function hits an end-of-file condition (EOF).\n",
    "b. FloatingPointError =  Raised when a floating point operation fails.\n",
    "c. IndexError =  Raised when a sequence subscript (index) is out of range.\n",
    "d. MemoryError = Raised when an operation runs out of memory.\n",
    "e. OverflowError = Raised when the result of an arithmetic operation is too large to be expressed.\n",
    "f. TabError = Raised when indentation contains mixed tabs and spaces.\n",
    "g. ValueError = Raised when a built-in operation or function receives an argument that has the right type but an inappropriate value."
   ]
  },
  {
   "cell_type": "markdown",
   "id": "7efaadfd-fb0b-492d-9bc4-51dbd2c5d148",
   "metadata": {},
   "source": [
    "8. Write code for the following given scenario and add try-exception block to it.\n",
    "\n",
    "ANSWER"
   ]
  },
  {
   "cell_type": "code",
   "execution_count": 13,
   "id": "9ac91be3-79af-4883-a50a-da95e5b895b2",
   "metadata": {},
   "outputs": [
    {
     "name": "stdin",
     "output_type": "stream",
     "text": [
      "Enter the dividend:  45\n",
      "Enter the divisor:  0\n"
     ]
    },
    {
     "name": "stdout",
     "output_type": "stream",
     "text": [
      "Error: Cannot divide by zero.\n"
     ]
    }
   ],
   "source": [
    "\"\"\"a. Program to divide two numbers\"\"\"\n",
    "try:\n",
    "    num1 = float(input(\"Enter the dividend: \"))\n",
    "    num2 = float(input(\"Enter the divisor: \"))\n",
    "    result = num1 / num2\n",
    "    print(\"Result:\", result)\n",
    "except ZeroDivisionError:\n",
    "    print(\"Error: Cannot divide by zero.\")"
   ]
  },
  {
   "cell_type": "code",
   "execution_count": 16,
   "id": "ff2e82d9-4ada-46df-9772-81f5084fdc68",
   "metadata": {},
   "outputs": [
    {
     "name": "stdin",
     "output_type": "stream",
     "text": [
      "Enter an integer:  RAHUL\n"
     ]
    },
    {
     "name": "stdout",
     "output_type": "stream",
     "text": [
      "Error: Invalid input. Please enter a valid integer.\n"
     ]
    }
   ],
   "source": [
    "\"\"\"b. Program to convert a string to an integer\"\"\"\n",
    "try:\n",
    "    input_string = input(\"Enter an integer: \")\n",
    "    number = int(input_string)\n",
    "    print(\"Number:\", number)\n",
    "except ValueError:\n",
    "    print(\"Error: Invalid input. Please enter a valid integer.\")"
   ]
  },
  {
   "cell_type": "code",
   "execution_count": 18,
   "id": "116bfed3-ca50-4f70-904f-91d6f2491519",
   "metadata": {},
   "outputs": [
    {
     "name": "stdin",
     "output_type": "stream",
     "text": [
      "Enter the index to access:  7\n"
     ]
    },
    {
     "name": "stdout",
     "output_type": "stream",
     "text": [
      "Error: Index out of range. Please provide a valid index.\n"
     ]
    }
   ],
   "source": [
    "\"\"\"c. Program to access an element in a list\"\"\"\n",
    "try:\n",
    "    my_list = [1, 2, 3, 4, 5]\n",
    "    index = int(input(\"Enter the index to access: \"))\n",
    "    element = my_list[index]\n",
    "    print(\"Element at index\", index, \":\", element)\n",
    "except IndexError:\n",
    "    print(\"Error: Index out of range. Please provide a valid index.\")"
   ]
  },
  {
   "cell_type": "code",
   "execution_count": 19,
   "id": "00488234-1687-43d3-91f7-da05afc6c827",
   "metadata": {},
   "outputs": [
    {
     "name": "stdout",
     "output_type": "stream",
     "text": [
      "Error: Cannot divide by zero.\n"
     ]
    }
   ],
   "source": [
    "\"\"\"d. Program to handle a specific exception\"\"\"\n",
    "try:\n",
    "    x = 10\n",
    "    y = 0\n",
    "    result = x / y  # This will raise a ZeroDivisionError\n",
    "except ZeroDivisionError:\n",
    "    print(\"Error: Cannot divide by zero.\")"
   ]
  },
  {
   "cell_type": "code",
   "execution_count": 20,
   "id": "e33bfe1e-b10b-41fe-8726-eab7750c6471",
   "metadata": {},
   "outputs": [
    {
     "name": "stdout",
     "output_type": "stream",
     "text": [
      "An error occurred: division by zero\n"
     ]
    }
   ],
   "source": [
    "\"\"\"e. Program to handle any exception\"\"\"\n",
    "try:\n",
    "    x = 10\n",
    "    y = 0\n",
    "    result = x / y  # This will raise a ZeroDivisionError\n",
    "except Exception as e:\n",
    "    print(\"An error occurred:\", e)"
   ]
  },
  {
   "cell_type": "code",
   "execution_count": null,
   "id": "19b63401-6ec9-4dfa-bdcd-f73333d51297",
   "metadata": {},
   "outputs": [],
   "source": []
  }
 ],
 "metadata": {
  "kernelspec": {
   "display_name": "Python 3 (ipykernel)",
   "language": "python",
   "name": "python3"
  },
  "language_info": {
   "codemirror_mode": {
    "name": "ipython",
    "version": 3
   },
   "file_extension": ".py",
   "mimetype": "text/x-python",
   "name": "python",
   "nbconvert_exporter": "python",
   "pygments_lexer": "ipython3",
   "version": "3.10.6"
  }
 },
 "nbformat": 4,
 "nbformat_minor": 5
}
